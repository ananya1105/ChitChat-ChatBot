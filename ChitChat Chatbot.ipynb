{
 "cells": [
  {
   "cell_type": "code",
   "execution_count": 24,
   "metadata": {},
   "outputs": [],
   "source": [
    "import time\n",
    "import random \n",
    "import speech_recognition as sr"
   ]
  },
  {
   "cell_type": "code",
   "execution_count": 48,
   "metadata": {
    "scrolled": true
   },
   "outputs": [
    {
     "name": "stdout",
     "output_type": "stream",
     "text": [
      "Bot: Give your prefernce\n",
      "Text or Speech - Text: 0, Speech: 11\n",
      "Bot: Hey! Myself Mr. Bot! Let's talk\n",
      "\n",
      "User: hey how are you\n",
      "Bot: I am good\n"
     ]
    }
   ],
   "source": [
    "bot = 'Bot: {}'\n",
    "user = 'User: {}'\n",
    "\n",
    "responses = { 'What is going on?':['nothing much','chitchat :P','two friends talking ;)'],'default':['Sorry! what?','Sorry! My bad I did not get that.']}\n",
    "responses.update(responses.fromkeys(('heyhowareyou','howareyou','Hey! How are you?'), ['I am good','Happy as a cat with her kittens.', 'I am doing great']))\n",
    "\n",
    "def respond_msg(message):\n",
    "    \n",
    "    if message in responses:\n",
    "        #print(message)\n",
    "        return random.choice(responses[message])\n",
    "    \n",
    "    return random.choice(responses['default'])\n",
    "\n",
    "    \n",
    "def send_msg(message):\n",
    "    #print(user.format(message))\n",
    "    time.sleep(0.5)\n",
    "    response = respond_msg(message)\n",
    "    print(bot.format(response))\n",
    "    \n",
    "\n",
    "    \n",
    "\n",
    "print(bot.format('Give your prefernce'))\n",
    "txt_spch = input('Text or Speech - Text: 0, Speech: 1')\n",
    "\n",
    "\n",
    "if int(txt_spch) == 1:\n",
    "    \n",
    "    r = sr.Recognizer()\n",
    "    with sr.Microphone() as source:\n",
    "\n",
    "        try:\n",
    "            print(bot.format('Hey! Myself Mr. Bot! Let\\'s talk\\n'))\n",
    "            r.adjust_for_ambient_noise(source) # This filters noise\n",
    "            r.pause_threshold = 1\n",
    "            #print('Speak Something : ')\n",
    "            aud = r.listen(source)\n",
    "            #print('Time Up! Converting Audio to text : ')\n",
    "            text = r.recognize_google(aud)\n",
    "            print(user.format(text))\n",
    "            text = text.lower().replace(' ','')\n",
    "            \n",
    "            send_msg(text)\n",
    "        except:\n",
    "            print(\"Sorry, I did not get that\")\n",
    "\n",
    "\n",
    "else:\n",
    "    \n",
    "    msg = input(bot.format('Hey! Myself Mr. Bot!\\nUser:'))\n",
    "    \n",
    "    send_msg(msg)\n",
    "    "
   ]
  }
 ],
 "metadata": {
  "kernelspec": {
   "display_name": "Python 3",
   "language": "python",
   "name": "python3"
  },
  "language_info": {
   "codemirror_mode": {
    "name": "ipython",
    "version": 3
   },
   "file_extension": ".py",
   "mimetype": "text/x-python",
   "name": "python",
   "nbconvert_exporter": "python",
   "pygments_lexer": "ipython3",
   "version": "3.7.4"
  }
 },
 "nbformat": 4,
 "nbformat_minor": 2
}
